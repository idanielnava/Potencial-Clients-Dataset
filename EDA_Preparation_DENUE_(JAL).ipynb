{
  "cells": [
    {
      "cell_type": "markdown",
      "metadata": {
        "id": "view-in-github",
        "colab_type": "text"
      },
      "source": [
        "<a href=\"https://colab.research.google.com/github/idanielnava/Potencial-Clients-Dataset/blob/main/EDA_Preparation_DENUE_(JAL).ipynb\" target=\"_parent\"><img src=\"https://colab.research.google.com/assets/colab-badge.svg\" alt=\"Open In Colab\"/></a>"
      ]
    },
    {
      "cell_type": "markdown",
      "metadata": {
        "id": "BRIbPsAWiw4H"
      },
      "source": [
        "# Importing Necessary Libraries"
      ]
    },
    {
      "cell_type": "code",
      "execution_count": 1,
      "metadata": {
        "id": "PdxLF3Mqibk5"
      },
      "outputs": [],
      "source": [
        "#Common imports\n",
        "import pandas as pd\n",
        "import numpy as np\n",
        "import seaborn as sns\n",
        "import matplotlib.pyplot as plt\n",
        "import missingno as msno"
      ]
    },
    {
      "cell_type": "code",
      "execution_count": 2,
      "metadata": {
        "id": "W7dOoJjzi1Tb"
      },
      "outputs": [],
      "source": [
        "#imports needed for Google Sheets\n",
        "import gspread\n",
        "from gspread_dataframe import get_as_dataframe, set_with_dataframe\n",
        "from google.colab import auth\n",
        "\n",
        "#verification from account for reading files\n",
        "auth.authenticate_user()\n",
        "from google.auth import default\n",
        "creds, _ = default()\n",
        "\n",
        "gc = gspread.authorize(creds)"
      ]
    },
    {
      "cell_type": "markdown",
      "metadata": {
        "id": "BE7UR7s6ryZi"
      },
      "source": [
        "#Importing dataset / Initial cleaning"
      ]
    },
    {
      "cell_type": "code",
      "execution_count": 3,
      "metadata": {
        "colab": {
          "base_uri": "https://localhost:8080/"
        },
        "id": "tbwLcDhzjeYE",
        "outputId": "c50128c9-4fff-4404-9096-a22f58a63bec"
      },
      "outputs": [
        {
          "output_type": "stream",
          "name": "stderr",
          "text": [
            "/usr/local/lib/python3.7/dist-packages/IPython/core/interactiveshell.py:2882: DtypeWarning: Columns (35) have mixed types.Specify dtype option on import or set low_memory=False.\n",
            "  exec(code_obj, self.user_global_ns, self.user_ns)\n"
          ]
        }
      ],
      "source": [
        "#Reading dataset\n",
        "denue = pd.read_csv('/content/drive/MyDrive/BUSINESS/DENUE paneles solares/JAL/conjunto_de_datos/denue_inegi_14_.csv', encoding='latin1')"
      ]
    },
    {
      "cell_type": "code",
      "execution_count": 9,
      "metadata": {
        "colab": {
          "base_uri": "https://localhost:8080/",
          "height": 846
        },
        "id": "ZNi4VvUUnguW",
        "outputId": "916a789c-6316-40e6-890a-730690b50b63"
      },
      "outputs": [
        {
          "output_type": "stream",
          "name": "stdout",
          "text": [
            "\n",
            " We have 42 columns, however a few of them wont be necessary, others will be concatenated for better understanding from the final user \n",
            "\n",
            "\n",
            " Dataset shape:\n",
            "(378100, 42)\n",
            "\n",
            " Columns:\n",
            "Index(['id', 'clee', 'nom_estab', 'raz_social', 'codigo_act', 'nombre_act',\n",
            "       'per_ocu', 'tipo_vial', 'nom_vial', 'tipo_v_e_1', 'nom_v_e_1',\n",
            "       'tipo_v_e_2', 'nom_v_e_2', 'tipo_v_e_3', 'nom_v_e_3', 'numero_ext',\n",
            "       'letra_ext', 'edificio', 'edificio_e', 'numero_int', 'letra_int',\n",
            "       'tipo_asent', 'nomb_asent', 'tipoCenCom', 'nom_CenCom', 'num_local',\n",
            "       'cod_postal', 'cve_ent', 'entidad', 'cve_mun', 'municipio', 'cve_loc',\n",
            "       'localidad', 'ageb', 'manzana', 'telefono', 'correoelec', 'www',\n",
            "       'tipoUniEco', 'latitud', 'longitud', 'fecha_alta'],\n",
            "      dtype='object')\n"
          ]
        },
        {
          "output_type": "execute_result",
          "data": {
            "text/plain": [
              "        id                          clee  \\\n",
              "0  8624390  14120112512000022000000000O3   \n",
              "1  8838371  14039112511000014000000000O4   \n",
              "2  9233864  14095112512000022000000000O7   \n",
              "3  8341990  14095114119000082000000000O3   \n",
              "4  8908807  14079112512000011000000000U4   \n",
              "\n",
              "                                      nom_estab  \\\n",
              "0  ACUACULTORES LOS CASTRO S.C. DE R.L. DE C.V.   \n",
              "1            ACUACULTURA DEL PACIFICO SPR DE RL   \n",
              "2                            ACUIC0LA LA CABAÑA   \n",
              "3       ACUICOLA DE VILLA CORONA S.P.R. DE R.L.   \n",
              "4                           ACUÍCOLA EL DURAZNO   \n",
              "\n",
              "                               raz_social  codigo_act  \\\n",
              "0  ACUACULTORES LOS CASTRO SC DE RL DE CV      112512   \n",
              "1      ACUACULTURA DEL PACIFICO SPR DE RL      112511   \n",
              "2                                     NaN      112512   \n",
              "3      ACUICOLA DE VILLA CORONA SPR DE RL      112512   \n",
              "4                                     NaN      112512   \n",
              "\n",
              "                                          nombre_act           per_ocu  \\\n",
              "0  Piscicultura y otra acuicultura, excepto camar...    0 a 5 personas   \n",
              "1                                    Camaronicultura  11 a 30 personas   \n",
              "2  Piscicultura y otra acuicultura, excepto camar...    0 a 5 personas   \n",
              "3  Piscicultura y otra acuicultura, excepto camar...   6 a 10 personas   \n",
              "4  Piscicultura y otra acuicultura, excepto camar...    0 a 5 personas   \n",
              "\n",
              "            tipo_vial        nom_vial          tipo_v_e_1  ...  \\\n",
              "0            CIRCUITO    DE LAS CAÑAS               CALLE  ...   \n",
              "1               CALLE    PABLO VALDEZ               CALLE  ...   \n",
              "2               CALLE     HIDALGO SUR               CALLE  ...   \n",
              "3               CALLE         ALLENDE               CALLE  ...   \n",
              "4  OTRO (ESPECIFIQUE)  SIN REFERENCIA  OTRO (ESPECIFIQUE)  ...   \n",
              "\n",
              "                                           localidad  ageb manzana  \\\n",
              "0  Campestre las Palomas [Fraccionamiento]       ...  6940      13   \n",
              "1  Guadalajara                                   ...  1170       3   \n",
              "2  Teuchitlán                                    ...  010A       8   \n",
              "3  Villa Corona                                  ...  0075      14   \n",
              "4  El Durazno                                    ...  006A     800   \n",
              "\n",
              "       telefono                  correoelec  www tipoUniEco    latitud  \\\n",
              "0  3317429415.0          ELDOTE@HOTMAIL.COM  NaN       Fijo  20.820661   \n",
              "1           NaN  CONSTRULOGA@PRODIGY.NET.MX  NaN       Fijo  20.681686   \n",
              "2  3841193710.0                         NaN  NaN       Fijo  20.683360   \n",
              "3  3331052902.0                         NaN  NaN       Fijo  20.418737   \n",
              "4           NaN                         NaN  NaN       Fijo  19.853656   \n",
              "\n",
              "     longitud  fecha_alta  \n",
              "0 -103.446726     2019-11  \n",
              "1 -103.329962     2019-11  \n",
              "2 -103.849741     2020-04  \n",
              "3 -103.666418     2019-11  \n",
              "4 -103.346905     2019-11  \n",
              "\n",
              "[5 rows x 42 columns]"
            ],
            "text/html": [
              "\n",
              "  <div id=\"df-b3b4a1e2-cec0-428c-bc86-22b743b05208\">\n",
              "    <div class=\"colab-df-container\">\n",
              "      <div>\n",
              "<style scoped>\n",
              "    .dataframe tbody tr th:only-of-type {\n",
              "        vertical-align: middle;\n",
              "    }\n",
              "\n",
              "    .dataframe tbody tr th {\n",
              "        vertical-align: top;\n",
              "    }\n",
              "\n",
              "    .dataframe thead th {\n",
              "        text-align: right;\n",
              "    }\n",
              "</style>\n",
              "<table border=\"1\" class=\"dataframe\">\n",
              "  <thead>\n",
              "    <tr style=\"text-align: right;\">\n",
              "      <th></th>\n",
              "      <th>id</th>\n",
              "      <th>clee</th>\n",
              "      <th>nom_estab</th>\n",
              "      <th>raz_social</th>\n",
              "      <th>codigo_act</th>\n",
              "      <th>nombre_act</th>\n",
              "      <th>per_ocu</th>\n",
              "      <th>tipo_vial</th>\n",
              "      <th>nom_vial</th>\n",
              "      <th>tipo_v_e_1</th>\n",
              "      <th>...</th>\n",
              "      <th>localidad</th>\n",
              "      <th>ageb</th>\n",
              "      <th>manzana</th>\n",
              "      <th>telefono</th>\n",
              "      <th>correoelec</th>\n",
              "      <th>www</th>\n",
              "      <th>tipoUniEco</th>\n",
              "      <th>latitud</th>\n",
              "      <th>longitud</th>\n",
              "      <th>fecha_alta</th>\n",
              "    </tr>\n",
              "  </thead>\n",
              "  <tbody>\n",
              "    <tr>\n",
              "      <th>0</th>\n",
              "      <td>8624390</td>\n",
              "      <td>14120112512000022000000000O3</td>\n",
              "      <td>ACUACULTORES LOS CASTRO S.C. DE R.L. DE C.V.</td>\n",
              "      <td>ACUACULTORES LOS CASTRO SC DE RL DE CV</td>\n",
              "      <td>112512</td>\n",
              "      <td>Piscicultura y otra acuicultura, excepto camar...</td>\n",
              "      <td>0 a 5 personas</td>\n",
              "      <td>CIRCUITO</td>\n",
              "      <td>DE LAS CAÑAS</td>\n",
              "      <td>CALLE</td>\n",
              "      <td>...</td>\n",
              "      <td>Campestre las Palomas [Fraccionamiento]       ...</td>\n",
              "      <td>6940</td>\n",
              "      <td>13</td>\n",
              "      <td>3317429415.0</td>\n",
              "      <td>ELDOTE@HOTMAIL.COM</td>\n",
              "      <td>NaN</td>\n",
              "      <td>Fijo</td>\n",
              "      <td>20.820661</td>\n",
              "      <td>-103.446726</td>\n",
              "      <td>2019-11</td>\n",
              "    </tr>\n",
              "    <tr>\n",
              "      <th>1</th>\n",
              "      <td>8838371</td>\n",
              "      <td>14039112511000014000000000O4</td>\n",
              "      <td>ACUACULTURA DEL PACIFICO SPR DE RL</td>\n",
              "      <td>ACUACULTURA DEL PACIFICO SPR DE RL</td>\n",
              "      <td>112511</td>\n",
              "      <td>Camaronicultura</td>\n",
              "      <td>11 a 30 personas</td>\n",
              "      <td>CALLE</td>\n",
              "      <td>PABLO VALDEZ</td>\n",
              "      <td>CALLE</td>\n",
              "      <td>...</td>\n",
              "      <td>Guadalajara                                   ...</td>\n",
              "      <td>1170</td>\n",
              "      <td>3</td>\n",
              "      <td>NaN</td>\n",
              "      <td>CONSTRULOGA@PRODIGY.NET.MX</td>\n",
              "      <td>NaN</td>\n",
              "      <td>Fijo</td>\n",
              "      <td>20.681686</td>\n",
              "      <td>-103.329962</td>\n",
              "      <td>2019-11</td>\n",
              "    </tr>\n",
              "    <tr>\n",
              "      <th>2</th>\n",
              "      <td>9233864</td>\n",
              "      <td>14095112512000022000000000O7</td>\n",
              "      <td>ACUIC0LA LA CABAÑA</td>\n",
              "      <td>NaN</td>\n",
              "      <td>112512</td>\n",
              "      <td>Piscicultura y otra acuicultura, excepto camar...</td>\n",
              "      <td>0 a 5 personas</td>\n",
              "      <td>CALLE</td>\n",
              "      <td>HIDALGO SUR</td>\n",
              "      <td>CALLE</td>\n",
              "      <td>...</td>\n",
              "      <td>Teuchitlán                                    ...</td>\n",
              "      <td>010A</td>\n",
              "      <td>8</td>\n",
              "      <td>3841193710.0</td>\n",
              "      <td>NaN</td>\n",
              "      <td>NaN</td>\n",
              "      <td>Fijo</td>\n",
              "      <td>20.683360</td>\n",
              "      <td>-103.849741</td>\n",
              "      <td>2020-04</td>\n",
              "    </tr>\n",
              "    <tr>\n",
              "      <th>3</th>\n",
              "      <td>8341990</td>\n",
              "      <td>14095114119000082000000000O3</td>\n",
              "      <td>ACUICOLA DE VILLA CORONA S.P.R. DE R.L.</td>\n",
              "      <td>ACUICOLA DE VILLA CORONA SPR DE RL</td>\n",
              "      <td>112512</td>\n",
              "      <td>Piscicultura y otra acuicultura, excepto camar...</td>\n",
              "      <td>6 a 10 personas</td>\n",
              "      <td>CALLE</td>\n",
              "      <td>ALLENDE</td>\n",
              "      <td>CALLE</td>\n",
              "      <td>...</td>\n",
              "      <td>Villa Corona                                  ...</td>\n",
              "      <td>0075</td>\n",
              "      <td>14</td>\n",
              "      <td>3331052902.0</td>\n",
              "      <td>NaN</td>\n",
              "      <td>NaN</td>\n",
              "      <td>Fijo</td>\n",
              "      <td>20.418737</td>\n",
              "      <td>-103.666418</td>\n",
              "      <td>2019-11</td>\n",
              "    </tr>\n",
              "    <tr>\n",
              "      <th>4</th>\n",
              "      <td>8908807</td>\n",
              "      <td>14079112512000011000000000U4</td>\n",
              "      <td>ACUÍCOLA EL DURAZNO</td>\n",
              "      <td>NaN</td>\n",
              "      <td>112512</td>\n",
              "      <td>Piscicultura y otra acuicultura, excepto camar...</td>\n",
              "      <td>0 a 5 personas</td>\n",
              "      <td>OTRO (ESPECIFIQUE)</td>\n",
              "      <td>SIN REFERENCIA</td>\n",
              "      <td>OTRO (ESPECIFIQUE)</td>\n",
              "      <td>...</td>\n",
              "      <td>El Durazno                                    ...</td>\n",
              "      <td>006A</td>\n",
              "      <td>800</td>\n",
              "      <td>NaN</td>\n",
              "      <td>NaN</td>\n",
              "      <td>NaN</td>\n",
              "      <td>Fijo</td>\n",
              "      <td>19.853656</td>\n",
              "      <td>-103.346905</td>\n",
              "      <td>2019-11</td>\n",
              "    </tr>\n",
              "  </tbody>\n",
              "</table>\n",
              "<p>5 rows × 42 columns</p>\n",
              "</div>\n",
              "      <button class=\"colab-df-convert\" onclick=\"convertToInteractive('df-b3b4a1e2-cec0-428c-bc86-22b743b05208')\"\n",
              "              title=\"Convert this dataframe to an interactive table.\"\n",
              "              style=\"display:none;\">\n",
              "        \n",
              "  <svg xmlns=\"http://www.w3.org/2000/svg\" height=\"24px\"viewBox=\"0 0 24 24\"\n",
              "       width=\"24px\">\n",
              "    <path d=\"M0 0h24v24H0V0z\" fill=\"none\"/>\n",
              "    <path d=\"M18.56 5.44l.94 2.06.94-2.06 2.06-.94-2.06-.94-.94-2.06-.94 2.06-2.06.94zm-11 1L8.5 8.5l.94-2.06 2.06-.94-2.06-.94L8.5 2.5l-.94 2.06-2.06.94zm10 10l.94 2.06.94-2.06 2.06-.94-2.06-.94-.94-2.06-.94 2.06-2.06.94z\"/><path d=\"M17.41 7.96l-1.37-1.37c-.4-.4-.92-.59-1.43-.59-.52 0-1.04.2-1.43.59L10.3 9.45l-7.72 7.72c-.78.78-.78 2.05 0 2.83L4 21.41c.39.39.9.59 1.41.59.51 0 1.02-.2 1.41-.59l7.78-7.78 2.81-2.81c.8-.78.8-2.07 0-2.86zM5.41 20L4 18.59l7.72-7.72 1.47 1.35L5.41 20z\"/>\n",
              "  </svg>\n",
              "      </button>\n",
              "      \n",
              "  <style>\n",
              "    .colab-df-container {\n",
              "      display:flex;\n",
              "      flex-wrap:wrap;\n",
              "      gap: 12px;\n",
              "    }\n",
              "\n",
              "    .colab-df-convert {\n",
              "      background-color: #E8F0FE;\n",
              "      border: none;\n",
              "      border-radius: 50%;\n",
              "      cursor: pointer;\n",
              "      display: none;\n",
              "      fill: #1967D2;\n",
              "      height: 32px;\n",
              "      padding: 0 0 0 0;\n",
              "      width: 32px;\n",
              "    }\n",
              "\n",
              "    .colab-df-convert:hover {\n",
              "      background-color: #E2EBFA;\n",
              "      box-shadow: 0px 1px 2px rgba(60, 64, 67, 0.3), 0px 1px 3px 1px rgba(60, 64, 67, 0.15);\n",
              "      fill: #174EA6;\n",
              "    }\n",
              "\n",
              "    [theme=dark] .colab-df-convert {\n",
              "      background-color: #3B4455;\n",
              "      fill: #D2E3FC;\n",
              "    }\n",
              "\n",
              "    [theme=dark] .colab-df-convert:hover {\n",
              "      background-color: #434B5C;\n",
              "      box-shadow: 0px 1px 3px 1px rgba(0, 0, 0, 0.15);\n",
              "      filter: drop-shadow(0px 1px 2px rgba(0, 0, 0, 0.3));\n",
              "      fill: #FFFFFF;\n",
              "    }\n",
              "  </style>\n",
              "\n",
              "      <script>\n",
              "        const buttonEl =\n",
              "          document.querySelector('#df-b3b4a1e2-cec0-428c-bc86-22b743b05208 button.colab-df-convert');\n",
              "        buttonEl.style.display =\n",
              "          google.colab.kernel.accessAllowed ? 'block' : 'none';\n",
              "\n",
              "        async function convertToInteractive(key) {\n",
              "          const element = document.querySelector('#df-b3b4a1e2-cec0-428c-bc86-22b743b05208');\n",
              "          const dataTable =\n",
              "            await google.colab.kernel.invokeFunction('convertToInteractive',\n",
              "                                                     [key], {});\n",
              "          if (!dataTable) return;\n",
              "\n",
              "          const docLinkHtml = 'Like what you see? Visit the ' +\n",
              "            '<a target=\"_blank\" href=https://colab.research.google.com/notebooks/data_table.ipynb>data table notebook</a>'\n",
              "            + ' to learn more about interactive tables.';\n",
              "          element.innerHTML = '';\n",
              "          dataTable['output_type'] = 'display_data';\n",
              "          await google.colab.output.renderOutput(dataTable, element);\n",
              "          const docLink = document.createElement('div');\n",
              "          docLink.innerHTML = docLinkHtml;\n",
              "          element.appendChild(docLink);\n",
              "        }\n",
              "      </script>\n",
              "    </div>\n",
              "  </div>\n",
              "  "
            ]
          },
          "metadata": {},
          "execution_count": 9
        }
      ],
      "source": [
        "print('\\n We have', denue.shape[1] , 'columns, however a few of them wont be necessary, others will be concatenated for better understanding from the final user \\n')\n",
        "print('\\n Dataset shape:')\n",
        "print(denue.shape)\n",
        "print('\\n Columns:')\n",
        "print(denue.columns)\n",
        "denue.head()"
      ]
    },
    {
      "cell_type": "code",
      "execution_count": null,
      "metadata": {
        "id": "D9TOR6Z2uZMy"
      },
      "outputs": [],
      "source": [
        "#All numeric columns are actually descriptive, will transform them to string for better handling\n",
        "denue['numero_ext'] = denue['numero_ext'].astype(str).str[:-2]\n",
        "denue['numero_int'] = denue['numero_int'].astype(str).str[:-2]\n",
        "denue['cod_postal'] = denue['cod_postal'].astype(str).str[:-2]\n",
        "denue['telefono'] = denue['telefono'].astype(str).str[:-2]"
      ]
    },
    {
      "cell_type": "code",
      "execution_count": null,
      "metadata": {
        "id": "_QRNYB8Xg3AG"
      },
      "outputs": [],
      "source": [
        "#Changing categorical columns to category data type\n",
        "denue['nombre_act'] = denue['nombre_act'].astype('category')\n",
        "denue['per_ocu'] = denue['per_ocu'].astype('category')\n",
        "denue['tipoUniEco'] = denue['tipoUniEco'].astype('category')"
      ]
    },
    {
      "cell_type": "code",
      "execution_count": null,
      "metadata": {
        "id": "_r41HqT8oJAL"
      },
      "outputs": [],
      "source": [
        "#Building address columns \n",
        "denue['Direccion']= denue['tipo_vial'] + ' ' + denue['nom_vial'] + ' ' + denue['numero_ext'] + '. ' + denue['tipo_asent'] + ', ' + denue['nomb_asent']\n",
        "denue['Entre calles'] = denue['nom_v_e_1'] + ' y ' + denue['nom_v_e_2']"
      ]
    },
    {
      "cell_type": "code",
      "execution_count": null,
      "metadata": {
        "id": "SR2DoQ5Hr5W7"
      },
      "outputs": [],
      "source": [
        "#Dropping unnecesary columns\n",
        "denue.drop(['tipo_vial', 'nom_vial', 'numero_ext', 'nom_v_e_1', 'nom_v_e_2', 'numero_int', 'tipo_asent', 'nomb_asent','clee', 'codigo_act', 'tipo_v_e_1', 'tipo_v_e_2', 'tipo_v_e_3', 'tipo_v_e_3', 'nom_v_e_3', 'edificio', 'edificio_e', 'letra_int', 'nom_CenCom', 'num_local', 'cve_ent', 'entidad', 'manzana', 'latitud', 'longitud', 'cve_mun', 'cve_loc', 'tipoCenCom', 'letra_ext'], axis=1, inplace=True)"
      ]
    },
    {
      "cell_type": "code",
      "execution_count": null,
      "metadata": {
        "id": "6wr8VqMK1QI0"
      },
      "outputs": [],
      "source": [
        "#Cleaning per_ocu column from unnecesary substrings, will only keep the amount of people working at each business\n",
        "denue['per_ocu'] = denue['per_ocu'].str.replace(' a ','-')\n",
        "denue['per_ocu'] = denue['per_ocu'].str.replace('personas','')"
      ]
    },
    {
      "cell_type": "code",
      "source": [
        "#Visualy checking duplicate values\n",
        "msno.matrix(denue)\n",
        "plt.show()"
      ],
      "metadata": {
        "colab": {
          "base_uri": "https://localhost:8080/",
          "height": 571
        },
        "id": "mvrpKYWa3vEe",
        "outputId": "7c3ab8c1-44a4-4ee8-b9a0-8595f741c8dd"
      },
      "execution_count": null,
      "outputs": [
        {
          "output_type": "display_data",
          "data": {
            "text/plain": [
              "<Figure size 1800x720 with 2 Axes>"
            ],
            "image/png": "[encoded data removed]"
          },
          "metadata": {
            "needs_background": "light"
          }
        }
      ]
    },
    {
      "cell_type": "code",
      "execution_count": null,
      "metadata": {
        "colab": {
          "base_uri": "https://localhost:8080/"
        },
        "id": "DPPWm07vuuLT",
        "outputId": "6dd46fff-84f9-4159-dd7f-24963abbeb94"
      },
      "outputs": [
        {
          "output_type": "stream",
          "name": "stdout",
          "text": [
            "Number of duplicate rows:  (0, 16)\n",
            "\n",
            "Location of null values:\n",
            "id                   0\n",
            "nom_estab            0\n",
            "raz_social      306666\n",
            "nombre_act           0\n",
            "per_ocu              0\n",
            "cod_postal           0\n",
            "municipio            0\n",
            "localidad            0\n",
            "ageb                 0\n",
            "telefono             0\n",
            "correoelec      328401\n",
            "www             355147\n",
            "tipoUniEco           0\n",
            "fecha_alta           0\n",
            "Direccion         1158\n",
            "Entre calles      4272\n",
            "dtype: int64\n"
          ]
        }
      ],
      "source": [
        "#Checking whether there are duplicate and null values in the dataset\n",
        "duplicate_rows_df = denue[denue.duplicated()]\n",
        "print('Number of duplicate rows: ', duplicate_rows_df.shape)\n",
        "print('\\nLocation of null values:')\n",
        "print(denue.isnull().sum())"
      ]
    },
    {
      "cell_type": "code",
      "execution_count": null,
      "metadata": {
        "id": "D2ciLK260p_s"
      },
      "outputs": [],
      "source": [
        "#Renaming columns for better understanding\n",
        "denue.rename(columns= {'nom_estab':'Nombre', 'raz_social':'Razon Social', 'nombre_act':'Tipo Actividad', 'per_ocu':'Empleados', 'cod_postal':'CP', 'correoelec':'email', 'www':'Sitio Web', 'tipoUniEco':'Tipo Establecimiento', 'municipio':'Municipio', 'localidad':'Localidad', 'telefono':'Telefono'}, inplace= True)"
      ]
    },
    {
      "cell_type": "code",
      "execution_count": null,
      "metadata": {
        "colab": {
          "base_uri": "https://localhost:8080/"
        },
        "id": "-zDQiIboqrZj",
        "outputId": "a2b746e3-2217-498f-d9a2-6f61f41433a8"
      },
      "outputs": [
        {
          "output_type": "stream",
          "name": "stdout",
          "text": [
            "Businesses in Jalisco are distributed in 12 regions as follows:\n",
            "Centro                     59.5%\n",
            "Altos Sur                   5.8%\n",
            "Cienega                     5.6%\n",
            "Altos Norte                 5.4%\n",
            "Costa-Sierra Occidental     5.2%\n",
            "Valles                      4.0%\n",
            "Sur                         4.0%\n",
            "Lagunas                     2.7%\n",
            "Sierra de Amula             2.5%\n",
            "Sureste                     2.2%\n",
            "Costa Sur                   2.0%\n",
            "Norte                       1.0%\n",
            "Name: Region, dtype: object\n"
          ]
        }
      ],
      "source": [
        "#We have almost 400k records, will create a column of regions based on \"Municipio\" in order to make it easier for the final user to handle that amount of records\n",
        "altos_norte = ['Lagos de Moreno', 'San Juan de los Lagos', 'Encarnación de Díaz', 'Villa Hidalgo', 'Teocaltiche', 'Ojuelos de Jalisco', 'Unión de San Antonio', 'San Diego de Alejandría']\n",
        "altos_sur = ['Tepatitlán de Morelos', 'Arandas', 'San Miguel el Alto', 'Jalostotitlán', 'Yahualica de González Gallo', 'Acatic', 'San Julián', 'San Ignacio Cerro Gordo', 'Jesús María', 'Valle de Guadalupe', 'Mexticacán', 'Cañadas de Obregón']\n",
        "centro = ['Guadalajara', 'Zapopan', 'San Pedro Tlaquepaque', 'Tonalá', 'Tlajomulco de Zúñiga', 'El Salto', 'Zapotlanejo', 'Ixtlahuacán de los Membrillos', 'Ixtlahuacán del Río', 'Cuquío', 'Juanacatlán', 'San Cristóbal de la Barranca']\n",
        "cienega = ['Ocotlán', 'La Barca', 'Atotonilco el Alto', 'Poncitlán', 'Ayotlán', 'Jamay', 'Tototlán', 'Degollado', 'Zapotlán del Rey']\n",
        "costa_sur = ['Cihuatlán', 'Tomatlán', 'La Huerta', 'Casimiro Castillo', 'Villa Purificación', 'Cuautitlán de García Barragán']\n",
        "costa_sierra = ['Puerto Vallarta', 'Talpa de Allende', 'Mascota', 'Cabo Corrientes', 'Atenguillo', 'Guachinango', 'Mixtlán', 'San Sebastián del Oeste']\n",
        "lagunas = ['Sayula', 'Zacoalco de Torres', 'San Martín Hidalgo', 'Cocula', 'Acatlán de Juárez', 'Villa Corona', 'Tapalpa', 'Atoyac', 'Atemajac de Brizuela', 'Teocuitatlán de Corona', 'Amacueca', 'Techaluta de Montenegro']\n",
        "norte = ['Colotlán', 'Huejuquilla el Alto', 'Huejúcar', 'Villa Guerrero', 'Mezquitic', 'San Martín de Bolaños', 'Santa María de los Ángeles', 'Bolaños', 'Totatiche', 'Chimaltitán']\n",
        "amula = ['Autlán de Navarro', 'El Grullo', 'Tecolotlán', 'Unión de Tula', 'Ayutla', 'Tenamaxtlán', 'Tonaya', 'Juchitlán', 'Chiquilistlán', 'El Limón','Tuxcacuesco', 'Cuautla', 'Atengo', 'Ejutla']\n",
        "sur = [ 'Zapotlán el Grande', 'Tuxpan', 'Tamazula de Gordiano', 'Zapotiltic', 'Tecalitlán', 'Gómez Farías', 'Pihuamo', 'San Gabriel', 'Tonila', 'Zapotitlán de Vadillo', 'Tolimán', 'Jilotlán de los Dolores']\n",
        "sureste = [ 'Chapala', 'Jocotepec', 'Mazamitla', 'Tizapán el Alto', 'Valle de Juárez', 'Concepción de Buenos Aires', 'Tuxcueca', 'La Manzanilla de la Paz', 'Quitupan', 'Santa María del Oro']\n",
        "valles = [ 'Tala', 'Ameca', 'Tequila', 'Ahualulco de Mercado', 'Etzatlán', 'Magdalena', 'El Arenal', 'Amatitán', 'San Juanito de Escobedo', 'Teuchitlán', 'Hostotipaquillo', 'San Marcos']\n",
        "\n",
        "denue.loc[denue['Municipio'].isin(altos_norte), 'Region'] = 'Altos Norte'\n",
        "denue.loc[denue['Municipio'].isin(altos_sur), 'Region'] = 'Altos Sur'\n",
        "denue.loc[denue['Municipio'].isin(centro), 'Region'] = 'Centro'\n",
        "denue.loc[denue['Municipio'].isin(cienega), 'Region'] = 'Cienega'\n",
        "denue.loc[denue['Municipio'].isin(costa_sur), 'Region'] = 'Costa Sur'\n",
        "denue.loc[denue['Municipio'].isin(costa_sierra), 'Region'] = 'Costa-Sierra Occidental'\n",
        "denue.loc[denue['Municipio'].isin(lagunas), 'Region'] = 'Lagunas'\n",
        "denue.loc[denue['Municipio'].isin(norte), 'Region'] = 'Norte'\n",
        "denue.loc[denue['Municipio'].isin(amula), 'Region'] = 'Sierra de Amula'\n",
        "denue.loc[denue['Municipio'].isin(sur), 'Region'] = 'Sur'\n",
        "denue.loc[denue['Municipio'].isin(sureste), 'Region'] = 'Sureste'\n",
        "denue.loc[denue['Municipio'].isin(valles), 'Region'] = 'Valles'\n",
        "\n",
        "print('Businesses in Jalisco are distributed in 12 regions as follows:')\n",
        "print(denue['Region'].value_counts(normalize= True).mul(100).round(1).astype(str) + '%')\n",
        "denue['Region'] = denue['Region'].astype('category')"
      ]
    },
    {
      "cell_type": "markdown",
      "metadata": {
        "id": "yaYmAOom21Qd"
      },
      "source": [
        "# Data Exploration"
      ]
    },
    {
      "cell_type": "code",
      "execution_count": null,
      "metadata": {
        "colab": {
          "base_uri": "https://localhost:8080/",
          "height": 343
        },
        "id": "3s6NuoYx3eln",
        "outputId": "f99c42f2-b3f2-49c4-ff9c-de76008e9bba"
      },
      "outputs": [
        {
          "output_type": "execute_result",
          "data": {
            "text/plain": [
              "                     Nombre                      Razon Social  \\\n",
              "count                378100                             71434   \n",
              "unique               243711                             41374   \n",
              "top     TIENDA DE ABARROTES  SECRETARÍA DE EDUCACIÓN PÚBLICA    \n",
              "freq                   4798                              1295   \n",
              "\n",
              "                                           Tipo Actividad Empleados      CP  \\\n",
              "count                                              378100    378100  378100   \n",
              "unique                                                927         7    1416   \n",
              "top     Comercio al por menor en tiendas de abarrotes,...      0-5    44360   \n",
              "freq                                                37494    321181    5661   \n",
              "\n",
              "          Municipio                                          Localidad  \\\n",
              "count        378100                                             378100   \n",
              "unique          125                                               1183   \n",
              "top     Guadalajara  Guadalajara                                   ...   \n",
              "freq          99745                                              99745   \n",
              "\n",
              "          ageb Telefono                      email     Sitio Web  \\\n",
              "count   378100   378100                      49699         22953   \n",
              "unique    2224   108954                      43394         14788   \n",
              "top       1378        n  ATENCIONCLIENTES@OXXO.COM  WWW.OXXO.COM   \n",
              "freq      4055   263569                       1029          1029   \n",
              "\n",
              "       Tipo Establecimiento fecha_alta  \\\n",
              "count                378100     378100   \n",
              "unique                    2         19   \n",
              "top                    Fijo    2010-07   \n",
              "freq                 370373     141036   \n",
              "\n",
              "                                           Direccion       Entre calles  \\\n",
              "count                                         376942             373828   \n",
              "unique                                        284417              75012   \n",
              "top     CALLE DIONISIO RODRIGUEZ 52. COLONIA, CENTRO  NINGUNO y NINGUNO   \n",
              "freq                                            1002               6269   \n",
              "\n",
              "        Region  \n",
              "count   378100  \n",
              "unique      12  \n",
              "top     Centro  \n",
              "freq    224973  "
            ],
            "text/html": [
              "\n",
              "  <div id=\"df-849ab0b3-ba22-4359-aae6-22cb41ec32ed\">\n",
              "    <div class=\"colab-df-container\">\n",
              "      <div>\n",
              "<style scoped>\n",
              "    .dataframe tbody tr th:only-of-type {\n",
              "        vertical-align: middle;\n",
              "    }\n",
              "\n",
              "    .dataframe tbody tr th {\n",
              "        vertical-align: top;\n",
              "    }\n",
              "\n",
              "    .dataframe thead th {\n",
              "        text-align: right;\n",
              "    }\n",
              "</style>\n",
              "<table border=\"1\" class=\"dataframe\">\n",
              "  <thead>\n",
              "    <tr style=\"text-align: right;\">\n",
              "      <th></th>\n",
              "      <th>Nombre</th>\n",
              "      <th>Razon Social</th>\n",
              "      <th>Tipo Actividad</th>\n",
              "      <th>Empleados</th>\n",
              "      <th>CP</th>\n",
              "      <th>Municipio</th>\n",
              "      <th>Localidad</th>\n",
              "      <th>ageb</th>\n",
              "      <th>Telefono</th>\n",
              "      <th>email</th>\n",
              "      <th>Sitio Web</th>\n",
              "      <th>Tipo Establecimiento</th>\n",
              "      <th>fecha_alta</th>\n",
              "      <th>Direccion</th>\n",
              "      <th>Entre calles</th>\n",
              "      <th>Region</th>\n",
              "    </tr>\n",
              "  </thead>\n",
              "  <tbody>\n",
              "    <tr>\n",
              "      <th>count</th>\n",
              "      <td>378100</td>\n",
              "      <td>71434</td>\n",
              "      <td>378100</td>\n",
              "      <td>378100</td>\n",
              "      <td>378100</td>\n",
              "      <td>378100</td>\n",
              "      <td>378100</td>\n",
              "      <td>378100</td>\n",
              "      <td>378100</td>\n",
              "      <td>49699</td>\n",
              "      <td>22953</td>\n",
              "      <td>378100</td>\n",
              "      <td>378100</td>\n",
              "      <td>376942</td>\n",
              "      <td>373828</td>\n",
              "      <td>378100</td>\n",
              "    </tr>\n",
              "    <tr>\n",
              "      <th>unique</th>\n",
              "      <td>243711</td>\n",
              "      <td>41374</td>\n",
              "      <td>927</td>\n",
              "      <td>7</td>\n",
              "      <td>1416</td>\n",
              "      <td>125</td>\n",
              "      <td>1183</td>\n",
              "      <td>2224</td>\n",
              "      <td>108954</td>\n",
              "      <td>43394</td>\n",
              "      <td>14788</td>\n",
              "      <td>2</td>\n",
              "      <td>19</td>\n",
              "      <td>284417</td>\n",
              "      <td>75012</td>\n",
              "      <td>12</td>\n",
              "    </tr>\n",
              "    <tr>\n",
              "      <th>top</th>\n",
              "      <td>TIENDA DE ABARROTES</td>\n",
              "      <td>SECRETARÍA DE EDUCACIÓN PÚBLICA</td>\n",
              "      <td>Comercio al por menor en tiendas de abarrotes,...</td>\n",
              "      <td>0-5</td>\n",
              "      <td>44360</td>\n",
              "      <td>Guadalajara</td>\n",
              "      <td>Guadalajara                                   ...</td>\n",
              "      <td>1378</td>\n",
              "      <td>n</td>\n",
              "      <td>ATENCIONCLIENTES@OXXO.COM</td>\n",
              "      <td>WWW.OXXO.COM</td>\n",
              "      <td>Fijo</td>\n",
              "      <td>2010-07</td>\n",
              "      <td>CALLE DIONISIO RODRIGUEZ 52. COLONIA, CENTRO</td>\n",
              "      <td>NINGUNO y NINGUNO</td>\n",
              "      <td>Centro</td>\n",
              "    </tr>\n",
              "    <tr>\n",
              "      <th>freq</th>\n",
              "      <td>4798</td>\n",
              "      <td>1295</td>\n",
              "      <td>37494</td>\n",
              "      <td>321181</td>\n",
              "      <td>5661</td>\n",
              "      <td>99745</td>\n",
              "      <td>99745</td>\n",
              "      <td>4055</td>\n",
              "      <td>263569</td>\n",
              "      <td>1029</td>\n",
              "      <td>1029</td>\n",
              "      <td>370373</td>\n",
              "      <td>141036</td>\n",
              "      <td>1002</td>\n",
              "      <td>6269</td>\n",
              "      <td>224973</td>\n",
              "    </tr>\n",
              "  </tbody>\n",
              "</table>\n",
              "</div>\n",
              "      <button class=\"colab-df-convert\" onclick=\"convertToInteractive('df-849ab0b3-ba22-4359-aae6-22cb41ec32ed')\"\n",
              "              title=\"Convert this dataframe to an interactive table.\"\n",
              "              style=\"display:none;\">\n",
              "        \n",
              "  <svg xmlns=\"http://www.w3.org/2000/svg\" height=\"24px\"viewBox=\"0 0 24 24\"\n",
              "       width=\"24px\">\n",
              "    <path d=\"M0 0h24v24H0V0z\" fill=\"none\"/>\n",
              "    <path d=\"M18.56 5.44l.94 2.06.94-2.06 2.06-.94-2.06-.94-.94-2.06-.94 2.06-2.06.94zm-11 1L8.5 8.5l.94-2.06 2.06-.94-2.06-.94L8.5 2.5l-.94 2.06-2.06.94zm10 10l.94 2.06.94-2.06 2.06-.94-2.06-.94-.94-2.06-.94 2.06-2.06.94z\"/><path d=\"M17.41 7.96l-1.37-1.37c-.4-.4-.92-.59-1.43-.59-.52 0-1.04.2-1.43.59L10.3 9.45l-7.72 7.72c-.78.78-.78 2.05 0 2.83L4 21.41c.39.39.9.59 1.41.59.51 0 1.02-.2 1.41-.59l7.78-7.78 2.81-2.81c.8-.78.8-2.07 0-2.86zM5.41 20L4 18.59l7.72-7.72 1.47 1.35L5.41 20z\"/>\n",
              "  </svg>\n",
              "      </button>\n",
              "      \n",
              "  <style>\n",
              "    .colab-df-container {\n",
              "      display:flex;\n",
              "      flex-wrap:wrap;\n",
              "      gap: 12px;\n",
              "    }\n",
              "\n",
              "    .colab-df-convert {\n",
              "      background-color: #E8F0FE;\n",
              "      border: none;\n",
              "      border-radius: 50%;\n",
              "      cursor: pointer;\n",
              "      display: none;\n",
              "      fill: #1967D2;\n",
              "      height: 32px;\n",
              "      padding: 0 0 0 0;\n",
              "      width: 32px;\n",
              "    }\n",
              "\n",
              "    .colab-df-convert:hover {\n",
              "      background-color: #E2EBFA;\n",
              "      box-shadow: 0px 1px 2px rgba(60, 64, 67, 0.3), 0px 1px 3px 1px rgba(60, 64, 67, 0.15);\n",
              "      fill: #174EA6;\n",
              "    }\n",
              "\n",
              "    [theme=dark] .colab-df-convert {\n",
              "      background-color: #3B4455;\n",
              "      fill: #D2E3FC;\n",
              "    }\n",
              "\n",
              "    [theme=dark] .colab-df-convert:hover {\n",
              "      background-color: #434B5C;\n",
              "      box-shadow: 0px 1px 3px 1px rgba(0, 0, 0, 0.15);\n",
              "      filter: drop-shadow(0px 1px 2px rgba(0, 0, 0, 0.3));\n",
              "      fill: #FFFFFF;\n",
              "    }\n",
              "  </style>\n",
              "\n",
              "      <script>\n",
              "        const buttonEl =\n",
              "          document.querySelector('#df-849ab0b3-ba22-4359-aae6-22cb41ec32ed button.colab-df-convert');\n",
              "        buttonEl.style.display =\n",
              "          google.colab.kernel.accessAllowed ? 'block' : 'none';\n",
              "\n",
              "        async function convertToInteractive(key) {\n",
              "          const element = document.querySelector('#df-849ab0b3-ba22-4359-aae6-22cb41ec32ed');\n",
              "          const dataTable =\n",
              "            await google.colab.kernel.invokeFunction('convertToInteractive',\n",
              "                                                     [key], {});\n",
              "          if (!dataTable) return;\n",
              "\n",
              "          const docLinkHtml = 'Like what you see? Visit the ' +\n",
              "            '<a target=\"_blank\" href=https://colab.research.google.com/notebooks/data_table.ipynb>data table notebook</a>'\n",
              "            + ' to learn more about interactive tables.';\n",
              "          element.innerHTML = '';\n",
              "          dataTable['output_type'] = 'display_data';\n",
              "          await google.colab.output.renderOutput(dataTable, element);\n",
              "          const docLink = document.createElement('div');\n",
              "          docLink.innerHTML = docLinkHtml;\n",
              "          element.appendChild(docLink);\n",
              "        }\n",
              "      </script>\n",
              "    </div>\n",
              "  </div>\n",
              "  "
            ]
          },
          "metadata": {},
          "execution_count": 23
        }
      ],
      "source": [
        "#Quick look at categorical variables\n",
        "denue.describe(include=['object', 'category'])"
      ]
    },
    {
      "cell_type": "code",
      "execution_count": null,
      "metadata": {
        "colab": {
          "base_uri": "https://localhost:8080/"
        },
        "id": "kGtfofv2MvpH",
        "outputId": "4ec50d24-daef-49d4-a81e-3b2788fd413b"
      },
      "outputs": [
        {
          "output_type": "stream",
          "name": "stdout",
          "text": [
            "Fijo        98.0%\n",
            "Semifijo     2.0%\n",
            "Name: Tipo Establecimiento, dtype: object\n",
            "\n",
            " 2% of records represent semi stablished businesess, will ignore that 2% of information because we can only work with fully stablished businesess\n"
          ]
        }
      ],
      "source": [
        "#Inspecting stablished/semi stablished business\n",
        "print(denue['Tipo Establecimiento'].value_counts(normalize= True).mul(100).round(1).astype(str) + '%')\n",
        "print('\\n 2% of records represent semi stablished businesess, will ignore that 2% of information because we can only work with fully stablished businesess')"
      ]
    },
    {
      "cell_type": "code",
      "execution_count": null,
      "metadata": {
        "colab": {
          "base_uri": "https://localhost:8080/"
        },
        "id": "h7jM46j8O1DB",
        "outputId": "b95bab63-a4bf-4ad8-f812-a6d9fe229f51"
      },
      "outputs": [
        {
          "output_type": "stream",
          "name": "stderr",
          "text": [
            "/usr/local/lib/python3.7/dist-packages/pandas/core/frame.py:4913: SettingWithCopyWarning: \n",
            "A value is trying to be set on a copy of a slice from a DataFrame\n",
            "\n",
            "See the caveats in the documentation: https://pandas.pydata.org/pandas-docs/stable/user_guide/indexing.html#returning-a-view-versus-a-copy\n",
            "  errors=errors,\n"
          ]
        },
        {
          "output_type": "execute_result",
          "data": {
            "text/plain": [
              "(370373, 16)"
            ]
          },
          "metadata": {},
          "execution_count": 25
        }
      ],
      "source": [
        "#Filtering out semi stablished business\n",
        "denue = denue[denue['Tipo Establecimiento'] == 'Fijo']\n",
        "denue.drop(['Tipo Establecimiento'], axis=1, inplace=True)\n",
        "denue.shape"
      ]
    },
    {
      "cell_type": "code",
      "execution_count": null,
      "metadata": {
        "colab": {
          "base_uri": "https://localhost:8080/",
          "height": 458
        },
        "id": "tWBBa_kW3SOi",
        "outputId": "b10b483b-4335-43a6-c1b0-ed194c5b177d"
      },
      "outputs": [
        {
          "output_type": "stream",
          "name": "stdout",
          "text": [
            "92% of businesses employ less than 11 people, this is expected acording to the industries reality in the region \n",
            "\n",
            "    Employees  share\n",
            "0        0-5    84.7\n",
            "1       6-10     7.9\n",
            "2      11-30     5.1\n",
            "3      31-50     1.0\n",
            "4     51-100     0.6\n",
            "5    101-250     0.4\n",
            "6  251 y más     0.3\n"
          ]
        },
        {
          "output_type": "display_data",
          "data": {
            "text/plain": [
              "<Figure size 432x288 with 1 Axes>"
            ],
            "image/png": "[encoded data removed]"
          },
          "metadata": {
            "needs_background": "light"
          }
        }
      ],
      "source": [
        "#Inspecting average amount of employees by business\n",
        "amount_employees= denue['Empleados'].value_counts(normalize= True).mul(100).round(1).rename_axis('Employees').reset_index(name='share')\n",
        "print('92% of businesses employ less than 11 people, this is expected acording to the industries reality in the region \\n')\n",
        "sns.barplot(data=amount_employees, x= 'Employees', y= 'share')\n",
        "print(amount_employees)\n"
      ]
    },
    {
      "cell_type": "code",
      "execution_count": null,
      "metadata": {
        "colab": {
          "base_uri": "https://localhost:8080/"
        },
        "id": "iGX_wZNLtg4A",
        "outputId": "0c8561bd-e06a-464b-c2da-de39ee1c9f8e"
      },
      "outputs": [
        {
          "output_type": "execute_result",
          "data": {
            "text/plain": [
              "Guadalajara                      26.4%\n",
              "Zapopan                         13.88%\n",
              "San Pedro Tlaquepaque            6.48%\n",
              "Tonalá                           5.12%\n",
              "Puerto Vallarta                  4.32%\n",
              "                                 ...  \n",
              "Atengo                           0.03%\n",
              "Ejutla                           0.03%\n",
              "San Cristóbal de la Barranca     0.02%\n",
              "Chimaltitán                      0.02%\n",
              "Santa María del Oro              0.02%\n",
              "Name: Municipio, Length: 125, dtype: object"
            ]
          },
          "metadata": {},
          "execution_count": 27
        }
      ],
      "source": [
        "#Amount of records by municipio\n",
        "denue['Municipio'].value_counts(normalize= True).mul(100).round(2).astype(str) + '%'"
      ]
    },
    {
      "cell_type": "code",
      "source": [
        "#Amount of giros \n",
        "Actividad_Share = denue['Tipo Actividad'].value_counts(normalize= True).mul(100).round(2).astype(str) + '%'\n",
        "print('Top 20 actividades por cantidad de comercios: \\n')\n",
        "print(Actividad_Share.head(20))"
      ],
      "metadata": {
        "colab": {
          "base_uri": "https://localhost:8080/"
        },
        "id": "tg0cOTDC1yHC",
        "outputId": "6c1ec559-f62d-4e12-908f-7937186ef719"
      },
      "execution_count": null,
      "outputs": [
        {
          "output_type": "stream",
          "name": "stdout",
          "text": [
            "Top 20 actividades por cantidad de comercios: \n",
            "\n",
            "Comercio al por menor en tiendas de abarrotes, ultramarinos y misceláneas                                     10.09%\n",
            "Salones y clínicas de belleza y peluquerías                                                                    4.97%\n",
            "Comercio al por menor de ropa, excepto de bebé y lencería                                                      3.57%\n",
            "Restaurantes con servicio de preparación de tacos y tortas                                                     2.92%\n",
            "Comercio al por menor de artículos de papelería                                                                2.04%\n",
            "Restaurantes con servicio de preparación de antojitos                                                          1.76%\n",
            "Reparación mecánica en general de automóviles y camiones                                                       1.53%\n",
            "Comercio al por menor de frutas y verduras frescas                                                             1.45%\n",
            "Cafeterías, fuentes de sodas, neverías, refresquerías y similares                                               1.4%\n",
            "Comercio al por menor de carnes rojas                                                                          1.39%\n",
            "Restaurantes con servicio de preparación de alimentos a la carta o de comida corrida                           1.38%\n",
            "Comercio al por menor en ferreterías y tlapalerías                                                              1.2%\n",
            "Banca múltiple                                                                                                  1.2%\n",
            "Consultorios dentales del sector privado                                                                       1.14%\n",
            "Restaurantes con servicio de preparación de pizzas, hamburguesas, hot dogs y pollos rostizados para llevar     1.13%\n",
            "Elaboración de tortillas de maíz y molienda de nixtamal                                                        1.12%\n",
            "Fabricación de productos de herrería                                                                           1.03%\n",
            "Asociaciones y organizaciones religiosas                                                                       0.98%\n",
            "Farmacias sin minisúper                                                                                        0.94%\n",
            "Comercio al por menor de calzado                                                                               0.91%\n",
            "Name: Tipo Actividad, dtype: object\n"
          ]
        }
      ]
    },
    {
      "cell_type": "markdown",
      "metadata": {
        "id": "adLXEzaYw_j2"
      },
      "source": [
        "# Export to an Excel file"
      ]
    },
    {
      "cell_type": "code",
      "execution_count": null,
      "metadata": {
        "colab": {
          "base_uri": "https://localhost:8080/",
          "height": 557
        },
        "id": "0simW-hmxmz1",
        "outputId": "b402d9df-9b4e-4f5e-85e6-37b8996eefcf"
      },
      "outputs": [
        {
          "data": {
            "text/html": [
              "\n",
              "  <div id=\"df-b352be67-2c23-4d19-b6e3-828679b2168c\">\n",
              "    <div class=\"colab-df-container\">\n",
              "      <div>\n",
              "<style scoped>\n",
              "    .dataframe tbody tr th:only-of-type {\n",
              "        vertical-align: middle;\n",
              "    }\n",
              "\n",
              "    .dataframe tbody tr th {\n",
              "        vertical-align: top;\n",
              "    }\n",
              "\n",
              "    .dataframe thead th {\n",
              "        text-align: right;\n",
              "    }\n",
              "</style>\n",
              "<table border=\"1\" class=\"dataframe\">\n",
              "  <thead>\n",
              "    <tr style=\"text-align: right;\">\n",
              "      <th></th>\n",
              "      <th>id</th>\n",
              "      <th>Nombre</th>\n",
              "      <th>Razon Social</th>\n",
              "      <th>Tipo Actividad</th>\n",
              "      <th>Empleados</th>\n",
              "      <th>Direccion</th>\n",
              "      <th>Entre calles</th>\n",
              "      <th>CP</th>\n",
              "      <th>Municipio</th>\n",
              "      <th>Localidad</th>\n",
              "      <th>Region</th>\n",
              "      <th>ageb</th>\n",
              "      <th>Telefono</th>\n",
              "      <th>email</th>\n",
              "      <th>Sitio Web</th>\n",
              "      <th>fecha_alta</th>\n",
              "    </tr>\n",
              "  </thead>\n",
              "  <tbody>\n",
              "    <tr>\n",
              "      <th>0</th>\n",
              "      <td>8624390</td>\n",
              "      <td>ACUACULTORES LOS CASTRO S.C. DE R.L. DE C.V.</td>\n",
              "      <td>ACUACULTORES LOS CASTRO SC DE RL DE CV</td>\n",
              "      <td>Piscicultura y otra acuicultura, excepto camar...</td>\n",
              "      <td>0-5</td>\n",
              "      <td>CIRCUITO DE LAS CAÑAS 71. FRACCIONAMIENTO, FRA...</td>\n",
              "      <td>MOLINOS DEL VALLE y AV DE LA MANCHA</td>\n",
              "      <td>45200</td>\n",
              "      <td>Zapopan</td>\n",
              "      <td>Campestre las Palomas [Fraccionamiento]       ...</td>\n",
              "      <td>Centro</td>\n",
              "      <td>6940</td>\n",
              "      <td>3317429415</td>\n",
              "      <td>ELDOTE@HOTMAIL.COM</td>\n",
              "      <td>NaN</td>\n",
              "      <td>2019-11</td>\n",
              "    </tr>\n",
              "    <tr>\n",
              "      <th>1</th>\n",
              "      <td>8838371</td>\n",
              "      <td>ACUACULTURA DEL PACIFICO SPR DE RL</td>\n",
              "      <td>ACUACULTURA DEL PACIFICO SPR DE RL</td>\n",
              "      <td>Camaronicultura</td>\n",
              "      <td>11-30</td>\n",
              "      <td>CALLE PABLO VALDEZ 606. COLONIA, LA PERLA</td>\n",
              "      <td>PEDRO A. GALVAN y PEDRO TAMEZ</td>\n",
              "      <td>44360</td>\n",
              "      <td>Guadalajara</td>\n",
              "      <td>Guadalajara                                   ...</td>\n",
              "      <td>Centro</td>\n",
              "      <td>1170</td>\n",
              "      <td>n</td>\n",
              "      <td>CONSTRULOGA@PRODIGY.NET.MX</td>\n",
              "      <td>NaN</td>\n",
              "      <td>2019-11</td>\n",
              "    </tr>\n",
              "    <tr>\n",
              "      <th>2</th>\n",
              "      <td>9233864</td>\n",
              "      <td>ACUIC0LA LA CABAÑA</td>\n",
              "      <td>NaN</td>\n",
              "      <td>Piscicultura y otra acuicultura, excepto camar...</td>\n",
              "      <td>0-5</td>\n",
              "      <td>CALLE HIDALGO SUR 66. LOCALIDAD, TEHUCHOTLAN</td>\n",
              "      <td>16 de Septiembre Poniente y 5 de Mayo Poniente</td>\n",
              "      <td>46760</td>\n",
              "      <td>Teuchitlán</td>\n",
              "      <td>Teuchitlán                                    ...</td>\n",
              "      <td>Valles</td>\n",
              "      <td>010A</td>\n",
              "      <td>3841193710</td>\n",
              "      <td>NaN</td>\n",
              "      <td>NaN</td>\n",
              "      <td>2020-04</td>\n",
              "    </tr>\n",
              "    <tr>\n",
              "      <th>3</th>\n",
              "      <td>8341990</td>\n",
              "      <td>ACUICOLA DE VILLA CORONA S.P.R. DE R.L.</td>\n",
              "      <td>ACUICOLA DE VILLA CORONA SPR DE RL</td>\n",
              "      <td>Piscicultura y otra acuicultura, excepto camar...</td>\n",
              "      <td>6-10</td>\n",
              "      <td>CALLE ALLENDE 76. COLONIA, VILLA CORONA CENTRO</td>\n",
              "      <td>MATAMOROS y FRANCISCO MARQUEZ</td>\n",
              "      <td>45730</td>\n",
              "      <td>Villa Corona</td>\n",
              "      <td>Villa Corona                                  ...</td>\n",
              "      <td>Lagunas</td>\n",
              "      <td>0075</td>\n",
              "      <td>3331052902</td>\n",
              "      <td>NaN</td>\n",
              "      <td>NaN</td>\n",
              "      <td>2019-11</td>\n",
              "    </tr>\n",
              "    <tr>\n",
              "      <th>4</th>\n",
              "      <td>8908807</td>\n",
              "      <td>ACUÍCOLA EL DURAZNO</td>\n",
              "      <td>NaN</td>\n",
              "      <td>Piscicultura y otra acuicultura, excepto camar...</td>\n",
              "      <td>0-5</td>\n",
              "      <td>OTRO (ESPECIFIQUE) SIN REFERENCIA n. LOCALIDAD...</td>\n",
              "      <td>NaN</td>\n",
              "      <td>49150</td>\n",
              "      <td>Gómez Farías</td>\n",
              "      <td>El Durazno                                    ...</td>\n",
              "      <td>Sur</td>\n",
              "      <td>006A</td>\n",
              "      <td>n</td>\n",
              "      <td>NaN</td>\n",
              "      <td>NaN</td>\n",
              "      <td>2019-11</td>\n",
              "    </tr>\n",
              "  </tbody>\n",
              "</table>\n",
              "</div>\n",
              "      <button class=\"colab-df-convert\" onclick=\"convertToInteractive('df-b352be67-2c23-4d19-b6e3-828679b2168c')\"\n",
              "              title=\"Convert this dataframe to an interactive table.\"\n",
              "              style=\"display:none;\">\n",
              "        \n",
              "  <svg xmlns=\"http://www.w3.org/2000/svg\" height=\"24px\"viewBox=\"0 0 24 24\"\n",
              "       width=\"24px\">\n",
              "    <path d=\"M0 0h24v24H0V0z\" fill=\"none\"/>\n",
              "    <path d=\"M18.56 5.44l.94 2.06.94-2.06 2.06-.94-2.06-.94-.94-2.06-.94 2.06-2.06.94zm-11 1L8.5 8.5l.94-2.06 2.06-.94-2.06-.94L8.5 2.5l-.94 2.06-2.06.94zm10 10l.94 2.06.94-2.06 2.06-.94-2.06-.94-.94-2.06-.94 2.06-2.06.94z\"/><path d=\"M17.41 7.96l-1.37-1.37c-.4-.4-.92-.59-1.43-.59-.52 0-1.04.2-1.43.59L10.3 9.45l-7.72 7.72c-.78.78-.78 2.05 0 2.83L4 21.41c.39.39.9.59 1.41.59.51 0 1.02-.2 1.41-.59l7.78-7.78 2.81-2.81c.8-.78.8-2.07 0-2.86zM5.41 20L4 18.59l7.72-7.72 1.47 1.35L5.41 20z\"/>\n",
              "  </svg>\n",
              "      </button>\n",
              "      \n",
              "  <style>\n",
              "    .colab-df-container {\n",
              "      display:flex;\n",
              "      flex-wrap:wrap;\n",
              "      gap: 12px;\n",
              "    }\n",
              "\n",
              "    .colab-df-convert {\n",
              "      background-color: #E8F0FE;\n",
              "      border: none;\n",
              "      border-radius: 50%;\n",
              "      cursor: pointer;\n",
              "      display: none;\n",
              "      fill: #1967D2;\n",
              "      height: 32px;\n",
              "      padding: 0 0 0 0;\n",
              "      width: 32px;\n",
              "    }\n",
              "\n",
              "    .colab-df-convert:hover {\n",
              "      background-color: #E2EBFA;\n",
              "      box-shadow: 0px 1px 2px rgba(60, 64, 67, 0.3), 0px 1px 3px 1px rgba(60, 64, 67, 0.15);\n",
              "      fill: #174EA6;\n",
              "    }\n",
              "\n",
              "    [theme=dark] .colab-df-convert {\n",
              "      background-color: #3B4455;\n",
              "      fill: #D2E3FC;\n",
              "    }\n",
              "\n",
              "    [theme=dark] .colab-df-convert:hover {\n",
              "      background-color: #434B5C;\n",
              "      box-shadow: 0px 1px 3px 1px rgba(0, 0, 0, 0.15);\n",
              "      filter: drop-shadow(0px 1px 2px rgba(0, 0, 0, 0.3));\n",
              "      fill: #FFFFFF;\n",
              "    }\n",
              "  </style>\n",
              "\n",
              "      <script>\n",
              "        const buttonEl =\n",
              "          document.querySelector('#df-b352be67-2c23-4d19-b6e3-828679b2168c button.colab-df-convert');\n",
              "        buttonEl.style.display =\n",
              "          google.colab.kernel.accessAllowed ? 'block' : 'none';\n",
              "\n",
              "        async function convertToInteractive(key) {\n",
              "          const element = document.querySelector('#df-b352be67-2c23-4d19-b6e3-828679b2168c');\n",
              "          const dataTable =\n",
              "            await google.colab.kernel.invokeFunction('convertToInteractive',\n",
              "                                                     [key], {});\n",
              "          if (!dataTable) return;\n",
              "\n",
              "          const docLinkHtml = 'Like what you see? Visit the ' +\n",
              "            '<a target=\"_blank\" href=https://colab.research.google.com/notebooks/data_table.ipynb>data table notebook</a>'\n",
              "            + ' to learn more about interactive tables.';\n",
              "          element.innerHTML = '';\n",
              "          dataTable['output_type'] = 'display_data';\n",
              "          await google.colab.output.renderOutput(dataTable, element);\n",
              "          const docLink = document.createElement('div');\n",
              "          docLink.innerHTML = docLinkHtml;\n",
              "          element.appendChild(docLink);\n",
              "        }\n",
              "      </script>\n",
              "    </div>\n",
              "  </div>\n",
              "  "
            ],
            "text/plain": [
              "        id                                        Nombre  \\\n",
              "0  8624390  ACUACULTORES LOS CASTRO S.C. DE R.L. DE C.V.   \n",
              "1  8838371            ACUACULTURA DEL PACIFICO SPR DE RL   \n",
              "2  9233864                            ACUIC0LA LA CABAÑA   \n",
              "3  8341990       ACUICOLA DE VILLA CORONA S.P.R. DE R.L.   \n",
              "4  8908807                           ACUÍCOLA EL DURAZNO   \n",
              "\n",
              "                             Razon Social  \\\n",
              "0  ACUACULTORES LOS CASTRO SC DE RL DE CV   \n",
              "1      ACUACULTURA DEL PACIFICO SPR DE RL   \n",
              "2                                     NaN   \n",
              "3      ACUICOLA DE VILLA CORONA SPR DE RL   \n",
              "4                                     NaN   \n",
              "\n",
              "                                      Tipo Actividad Empleados  \\\n",
              "0  Piscicultura y otra acuicultura, excepto camar...      0-5    \n",
              "1                                    Camaronicultura    11-30    \n",
              "2  Piscicultura y otra acuicultura, excepto camar...      0-5    \n",
              "3  Piscicultura y otra acuicultura, excepto camar...     6-10    \n",
              "4  Piscicultura y otra acuicultura, excepto camar...      0-5    \n",
              "\n",
              "                                           Direccion  \\\n",
              "0  CIRCUITO DE LAS CAÑAS 71. FRACCIONAMIENTO, FRA...   \n",
              "1          CALLE PABLO VALDEZ 606. COLONIA, LA PERLA   \n",
              "2       CALLE HIDALGO SUR 66. LOCALIDAD, TEHUCHOTLAN   \n",
              "3     CALLE ALLENDE 76. COLONIA, VILLA CORONA CENTRO   \n",
              "4  OTRO (ESPECIFIQUE) SIN REFERENCIA n. LOCALIDAD...   \n",
              "\n",
              "                                     Entre calles     CP     Municipio  \\\n",
              "0             MOLINOS DEL VALLE y AV DE LA MANCHA  45200       Zapopan   \n",
              "1                   PEDRO A. GALVAN y PEDRO TAMEZ  44360   Guadalajara   \n",
              "2  16 de Septiembre Poniente y 5 de Mayo Poniente  46760    Teuchitlán   \n",
              "3                   MATAMOROS y FRANCISCO MARQUEZ  45730  Villa Corona   \n",
              "4                                             NaN  49150  Gómez Farías   \n",
              "\n",
              "                                           Localidad   Region  ageb  \\\n",
              "0  Campestre las Palomas [Fraccionamiento]       ...   Centro  6940   \n",
              "1  Guadalajara                                   ...   Centro  1170   \n",
              "2  Teuchitlán                                    ...   Valles  010A   \n",
              "3  Villa Corona                                  ...  Lagunas  0075   \n",
              "4  El Durazno                                    ...      Sur  006A   \n",
              "\n",
              "     Telefono                       email Sitio Web fecha_alta  \n",
              "0  3317429415          ELDOTE@HOTMAIL.COM       NaN    2019-11  \n",
              "1           n  CONSTRULOGA@PRODIGY.NET.MX       NaN    2019-11  \n",
              "2  3841193710                         NaN       NaN    2020-04  \n",
              "3  3331052902                         NaN       NaN    2019-11  \n",
              "4           n                         NaN       NaN    2019-11  "
            ]
          },
          "execution_count": 18,
          "metadata": {},
          "output_type": "execute_result"
        }
      ],
      "source": [
        "#Reordering columns for for export\n"
      ]
    },
    {
      "cell_type": "code",
      "execution_count": null,
      "metadata": {
        "id": "Ury2AZLKsb__"
      },
      "outputs": [],
      "source": [
        "#Since Centro region accounts for almost 60% of all records, will save this region into a first excel tab, and the rest of the regions to the second tab\n",
        "sheet1 = denue[denue['Region'] == 'Centro']\n",
        "sheet2 = denue[denue['Region'] != 'Centro']"
      ]
    },
    {
      "cell_type": "code",
      "execution_count": null,
      "metadata": {
        "colab": {
          "background_save": true
        },
        "id": "XHm9UDIf5Xam"
      },
      "outputs": [],
      "source": [
        "#Write Excel file\n",
        "with pd.ExcelWriter(\"/content/drive/MyDrive/BUSINESS/DENUE paneles solares/JAL/Contactos_Jalisco.xlsx\") as writer:\n",
        "    sheet1.to_excel(writer, sheet_name=\"Centro\")  \n",
        "    sheet2.to_excel(writer, sheet_name=\"Otras regiones\")  "
      ]
    }
  ],
  "metadata": {
    "colab": {
      "collapsed_sections": [],
      "name": "EDA / Preparation DENUE (JAL).ipynb",
      "provenance": [],
      "mount_file_id": "1ZUQ-2PYlFwK6yR6vFEs6o4SoKmPbdqnQ",
      "authorship_tag": "ABX9TyMAZF6gGelA6vQ8K2ib+vbO",
      "include_colab_link": true
    },
    "kernelspec": {
      "display_name": "Python 3",
      "name": "python3"
    },
    "language_info": {
      "name": "python"
    }
  },
  "nbformat": 4,
  "nbformat_minor": 0
}